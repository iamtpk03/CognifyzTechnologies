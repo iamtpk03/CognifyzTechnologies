{
 "cells": [
  {
   "cell_type": "code",
   "execution_count": 2,
   "id": "48180e72",
   "metadata": {},
   "outputs": [
    {
     "name": "stdout",
     "output_type": "stream",
     "text": [
      "Welcome to the Text Adventure Game!\n",
      "You find yourself in a dark room.\n",
      "Choose your path wisely!\n",
      "\n",
      "What do you want to do?\n",
      "1. Open the door\n",
      "2. Look for a light switch\n",
      "3. Check the window\n",
      "4. Quit the game\n",
      "Enter your choice (1-4): 2\n",
      "You find a light switch and turn on the lights. You see a key on the table.\n",
      "\n",
      "What do you want to do?\n",
      "1. Open the door\n",
      "2. Look for a light switch\n",
      "3. Check the window\n",
      "4. Quit the game\n",
      "Enter your choice (1-4): 3\n",
      "You look out the window and see a garden.\n",
      "\n",
      "What do you want to do?\n",
      "1. Open the door\n",
      "2. Look for a light switch\n",
      "3. Check the window\n",
      "4. Quit the game\n",
      "Enter your choice (1-4): 4\n",
      "Exiting the game. Goodbye!\n"
     ]
    }
   ],
   "source": [
    "# Simple Text-Based Game\n",
    "\n",
    "def main():\n",
    "    print(\"Welcome to the Text Adventure Game!\")\n",
    "    print(\"You find yourself in a dark room.\")\n",
    "    print(\"Choose your path wisely!\")\n",
    "\n",
    "    while True:\n",
    "        print(\"\\nWhat do you want to do?\")\n",
    "        print(\"1. Open the door\")\n",
    "        print(\"2. Look for a light switch\")\n",
    "        print(\"3. Check the window\")\n",
    "        print(\"4. Quit the game\")\n",
    "\n",
    "        choice = input(\"Enter your choice (1-4): \")\n",
    "\n",
    "        if choice == '1':\n",
    "            print(\"You open the door and find a treasure chest. You win!\")\n",
    "            break\n",
    "        elif choice == '2':\n",
    "            print(\"You find a light switch and turn on the lights. You see a key on the table.\")\n",
    "        elif choice == '3':\n",
    "            print(\"You look out the window and see a garden.\")\n",
    "        elif choice == '4':\n",
    "            print(\"Exiting the game. Goodbye!\")\n",
    "            break\n",
    "        else:\n",
    "            print(\"Invalid choice. Please enter a number between 1 and 4.\")\n",
    "\n",
    "if __name__ == \"__main__\":\n",
    "    main()\n"
   ]
  },
  {
   "cell_type": "code",
   "execution_count": null,
   "id": "6267a3d0",
   "metadata": {},
   "outputs": [],
   "source": []
  }
 ],
 "metadata": {
  "kernelspec": {
   "display_name": "Python 3 (ipykernel)",
   "language": "python",
   "name": "python3"
  },
  "language_info": {
   "codemirror_mode": {
    "name": "ipython",
    "version": 3
   },
   "file_extension": ".py",
   "mimetype": "text/x-python",
   "name": "python",
   "nbconvert_exporter": "python",
   "pygments_lexer": "ipython3",
   "version": "3.6.2"
  }
 },
 "nbformat": 4,
 "nbformat_minor": 5
}
