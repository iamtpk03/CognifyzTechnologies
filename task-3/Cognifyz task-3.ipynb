{
 "cells": [
  {
   "cell_type": "code",
   "execution_count": 1,
   "id": "4c0b42d9",
   "metadata": {},
   "outputs": [],
   "source": [
    "import json\n",
    "from datetime import datetime"
   ]
  },
  {
   "cell_type": "code",
   "execution_count": 2,
   "id": "e7a49f64",
   "metadata": {},
   "outputs": [],
   "source": [
    "class Task:\n",
    "    def __init__(self, title, description, due_date, priority, completed=False):\n",
    "        self.title = title\n",
    "        self.description = description\n",
    "        self.due_date = due_date\n",
    "        self.priority = priority\n",
    "        self.completed = completed\n",
    "\n",
    "    def to_dict(self):\n",
    "        return {\n",
    "            \"title\": self.title,\n",
    "            \"description\": self.description,\n",
    "            \"due_date\": self.due_date,\n",
    "            \"priority\": self.priority,\n",
    "            \"completed\": self.completed\n",
    "        }\n",
    "\n",
    "    @staticmethod\n",
    "    def from_dict(data):\n",
    "        return Task(data['title'], data['description'], data['due_date'], data['priority'], data['completed'])\n"
   ]
  },
  {
   "cell_type": "code",
   "execution_count": 3,
   "id": "cc68eb18",
   "metadata": {},
   "outputs": [],
   "source": [
    "def display_menu():\n",
    "    print(\"\\nTask Manager\")\n",
    "    print(\"1. Create a new task\")\n",
    "    print(\"2. View all tasks\")\n",
    "    print(\"3. Update a task\")\n",
    "    print(\"4. Delete a task\")\n",
    "    print(\"5. Mark task as completed\")\n",
    "    print(\"6. Save tasks to file\")\n",
    "    print(\"7. Load tasks from file\")\n",
    "    print(\"8. Exit\")\n"
   ]
  },
  {
   "cell_type": "code",
   "execution_count": 4,
   "id": "d4bd29f7",
   "metadata": {},
   "outputs": [],
   "source": [
    "def create_task(tasks):\n",
    "    title = input(\"Enter task title: \")\n",
    "    description = input(\"Enter task description: \")\n",
    "    due_date = input(\"Enter due date (YYYY-MM-DD): \")\n",
    "    priority = input(\"Enter task priority (High, Medium, Low): \")\n",
    "    task = Task(title, description, due_date, priority)\n",
    "    tasks.append(task)\n",
    "    print(\"Task created successfully!\")"
   ]
  },
  {
   "cell_type": "code",
   "execution_count": 5,
   "id": "fe71adbe",
   "metadata": {},
   "outputs": [],
   "source": [
    "def view_tasks(tasks):\n",
    "    if not tasks:\n",
    "        print(\"No tasks available.\")\n",
    "    else:\n",
    "        for idx, task in enumerate(tasks):\n",
    "            status = \"Completed\" if task.completed else \"Pending\"\n",
    "            print(f\"{idx + 1}. {task.title}: {task.description} [Due: {task.due_date}, Priority: {task.priority}, Status: {status}]\")\n"
   ]
  },
  {
   "cell_type": "code",
   "execution_count": 6,
   "id": "009099cb",
   "metadata": {},
   "outputs": [],
   "source": [
    "def update_task(tasks):\n",
    "    if not tasks:\n",
    "        print(\"No tasks available to update.\")\n",
    "    else:\n",
    "        view_tasks(tasks)\n",
    "        task_number = int(input(\"Enter the task number to update: \")) - 1\n",
    "        if 0 <= task_number < len(tasks):\n",
    "            title = input(\"Enter new task title: \")\n",
    "            description = input(\"Enter new task description: \")\n",
    "            due_date = input(\"Enter new due date (YYYY-MM-DD): \")\n",
    "            priority = input(\"Enter new task priority (High, Medium, Low): \")\n",
    "            tasks[task_number].title = title\n",
    "            tasks[task_number].description = description\n",
    "            tasks[task_number].due_date = due_date\n",
    "            tasks[task_number].priority = priority\n",
    "            print(\"Task updated successfully!\")\n",
    "        else:\n",
    "            print(\"Invalid task number.\")\n"
   ]
  },
  {
   "cell_type": "code",
   "execution_count": 7,
   "id": "ef68b014",
   "metadata": {},
   "outputs": [],
   "source": [
    "def delete_task(tasks):\n",
    "    if not tasks:\n",
    "        print(\"No tasks available to delete.\")\n",
    "    else:\n",
    "        view_tasks(tasks)\n",
    "        task_number = int(input(\"Enter the task number to delete: \")) - 1\n",
    "        if 0 <= task_number < len(tasks):\n",
    "            tasks.pop(task_number)\n",
    "            print(\"Task deleted successfully!\")\n",
    "        else:\n",
    "            print(\"Invalid task number.\")\n"
   ]
  },
  {
   "cell_type": "code",
   "execution_count": 8,
   "id": "08a49957",
   "metadata": {},
   "outputs": [],
   "source": [
    "def mark_task_completed(tasks):\n",
    "    if not tasks:\n",
    "        print(\"No tasks available.\")\n",
    "    else:\n",
    "        view_tasks(tasks)\n",
    "        task_number = int(input(\"Enter the task number to mark as completed: \")) - 1\n",
    "        if 0 <= task_number < len(tasks):\n",
    "            tasks[task_number].completed = True\n",
    "            print(\"Task marked as completed!\")\n",
    "        else:\n",
    "            print(\"Invalid task number.\")\n"
   ]
  },
  {
   "cell_type": "code",
   "execution_count": 9,
   "id": "947fb721",
   "metadata": {},
   "outputs": [],
   "source": [
    "def save_tasks_to_file(tasks, filename=\"tasks.json\"):\n",
    "    with open(filename, \"w\") as file:\n",
    "        json.dump([task.to_dict() for task in tasks], file)\n",
    "    print(\"Tasks saved to file successfully!\")\n"
   ]
  },
  {
   "cell_type": "code",
   "execution_count": 10,
   "id": "af45a977",
   "metadata": {},
   "outputs": [],
   "source": [
    "def load_tasks_from_file(filename=\"tasks.json\"):\n",
    "    try:\n",
    "        with open(filename, \"r\") as file:\n",
    "            tasks_data = json.load(file)\n",
    "            return [Task.from_dict(task_data) for task_data in tasks_data]\n",
    "    except FileNotFoundError:\n",
    "        print(\"No saved tasks found.\")\n",
    "        return []\n",
    "    except json.JSONDecodeError:\n",
    "        print(\"Error reading tasks file.\")\n",
    "        return []"
   ]
  },
  {
   "cell_type": "code",
   "execution_count": null,
   "id": "abe0daf0",
   "metadata": {},
   "outputs": [
    {
     "name": "stdout",
     "output_type": "stream",
     "text": [
      "No saved tasks found.\n",
      "\n",
      "Task Manager\n",
      "1. Create a new task\n",
      "2. View all tasks\n",
      "3. Update a task\n",
      "4. Delete a task\n",
      "5. Mark task as completed\n",
      "6. Save tasks to file\n",
      "7. Load tasks from file\n",
      "8. Exit\n"
     ]
    }
   ],
   "source": [
    "def main():\n",
    "    tasks = load_tasks_from_file()\n",
    "    while True:\n",
    "        display_menu()\n",
    "        choice = input(\"Enter your choice: \")\n",
    "        if choice == '1':\n",
    "            create_task(tasks)\n",
    "        elif choice == '2':\n",
    "            view_tasks(tasks)\n",
    "        elif choice == '3':\n",
    "            update_task(tasks)\n",
    "        elif choice == '4':\n",
    "            delete_task(tasks)\n",
    "        elif choice == '5':\n",
    "            mark_task_completed(tasks)\n",
    "        elif choice == '6':\n",
    "            save_tasks_to_file(tasks)\n",
    "        elif choice == '7':\n",
    "            tasks = load_tasks_from_file()\n",
    "        elif choice == '8':\n",
    "            print(\"Exiting the Task Manager. Goodbye!\")\n",
    "            break\n",
    "        else:\n",
    "            print(\"Invalid choice. Please try again.\")\n",
    "\n",
    "if __name__ == \"__main__\":\n",
    "    main()"
   ]
  },
  {
   "cell_type": "code",
   "execution_count": null,
   "id": "40f67927",
   "metadata": {},
   "outputs": [],
   "source": []
  }
 ],
 "metadata": {
  "kernelspec": {
   "display_name": "Python 3 (ipykernel)",
   "language": "python",
   "name": "python3"
  },
  "language_info": {
   "codemirror_mode": {
    "name": "ipython",
    "version": 3
   },
   "file_extension": ".py",
   "mimetype": "text/x-python",
   "name": "python",
   "nbconvert_exporter": "python",
   "pygments_lexer": "ipython3",
   "version": "3.6.2"
  }
 },
 "nbformat": 4,
 "nbformat_minor": 5
}
