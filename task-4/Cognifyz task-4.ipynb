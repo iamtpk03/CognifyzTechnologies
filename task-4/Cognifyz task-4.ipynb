{
 "cells": [
  {
   "cell_type": "code",
   "execution_count": 1,
   "id": "e179b3d6",
   "metadata": {},
   "outputs": [],
   "source": [
    "def display_menu():\n",
    "    print(\"\\nTemperature Converter\")\n",
    "    print(\"1. Convert Fahrenheit to Celsius\")\n",
    "    print(\"2. Convert Celsius to Fahrenheit\")\n",
    "    print(\"3. Convert Celsius to Kelvin\")\n",
    "    print(\"4. Convert Kelvin to Celsius\")\n",
    "    print(\"5. Convert Fahrenheit to Kelvin\")\n",
    "    print(\"6. Convert Kelvin to Fahrenheit\")\n",
    "    print(\"7. Exit\")"
   ]
  },
  {
   "cell_type": "code",
   "execution_count": 2,
   "id": "e756210a",
   "metadata": {},
   "outputs": [],
   "source": [
    "def fahrenheit_to_celsius(fahrenheit):\n",
    "    return (fahrenheit - 32) * 5.0 / 9.0"
   ]
  },
  {
   "cell_type": "code",
   "execution_count": 3,
   "id": "fed5d28d",
   "metadata": {},
   "outputs": [],
   "source": [
    "def celsius_to_fahrenheit(celsius):\n",
    "    return (celsius * 9.0 / 5.0) + 32"
   ]
  },
  {
   "cell_type": "code",
   "execution_count": 4,
   "id": "795a4c88",
   "metadata": {},
   "outputs": [],
   "source": [
    "def celsius_to_kelvin(celsius):\n",
    "    return celsius + 273.15\n"
   ]
  },
  {
   "cell_type": "code",
   "execution_count": 5,
   "id": "7c139c1a",
   "metadata": {},
   "outputs": [],
   "source": [
    "def kelvin_to_celsius(kelvin):\n",
    "    return kelvin - 273.15"
   ]
  },
  {
   "cell_type": "code",
   "execution_count": 6,
   "id": "5d57401a",
   "metadata": {},
   "outputs": [],
   "source": [
    "def fahrenheit_to_kelvin(fahrenheit):\n",
    "    return (fahrenheit - 32) * 5.0 / 9.0 + 273.15\n"
   ]
  },
  {
   "cell_type": "code",
   "execution_count": 7,
   "id": "76fa5cda",
   "metadata": {},
   "outputs": [],
   "source": [
    "def kelvin_to_fahrenheit(kelvin):\n",
    "    return (kelvin - 273.15) * 9.0 / 5.0 + 32\n"
   ]
  },
  {
   "cell_type": "code",
   "execution_count": 8,
   "id": "13acedf7",
   "metadata": {},
   "outputs": [],
   "source": [
    "def validate_temperature(temp, scale):\n",
    "    if scale == \"kelvin\" and temp < 0:\n",
    "        raise ValueError(\"Temperature in Kelvin cannot be negative.\")\n",
    "    return True"
   ]
  },
  {
   "cell_type": "code",
   "execution_count": 9,
   "id": "e86c3d2c",
   "metadata": {},
   "outputs": [],
   "source": [
    "def main():\n",
    "    while True:\n",
    "        display_menu()\n",
    "        choice = input(\"Enter your choice: \")\n",
    "        \n",
    "        try:\n",
    "            if choice == '1':\n",
    "                fahrenheit = float(input(\"Enter temperature in Fahrenheit: \"))\n",
    "                validate_temperature(fahrenheit, \"fahrenheit\")\n",
    "                celsius = fahrenheit_to_celsius(fahrenheit)\n",
    "                print(f\"{fahrenheit} Fahrenheit is {celsius:.2f} Celsius.\")\n",
    "                \n",
    "            elif choice == '2':\n",
    "                celsius = float(input(\"Enter temperature in Celsius: \"))\n",
    "                validate_temperature(celsius, \"celsius\")\n",
    "                fahrenheit = celsius_to_fahrenheit(celsius)\n",
    "                print(f\"{celsius} Celsius is {fahrenheit:.2f} Fahrenheit.\")\n",
    "                \n",
    "            elif choice == '3':\n",
    "                celsius = float(input(\"Enter temperature in Celsius: \"))\n",
    "                validate_temperature(celsius, \"celsius\")\n",
    "                kelvin = celsius_to_kelvin(celsius)\n",
    "                print(f\"{celsius} Celsius is {kelvin:.2f} Kelvin.\")\n",
    "                \n",
    "            elif choice == '4':\n",
    "                kelvin = float(input(\"Enter temperature in Kelvin: \"))\n",
    "                validate_temperature(kelvin, \"kelvin\")\n",
    "                celsius = kelvin_to_celsius(kelvin)\n",
    "                print(f\"{kelvin} Kelvin is {celsius:.2f} Celsius.\")\n",
    "                \n",
    "            elif choice == '5':\n",
    "                fahrenheit = float(input(\"Enter temperature in Fahrenheit: \"))\n",
    "                validate_temperature(fahrenheit, \"fahrenheit\")\n",
    "                kelvin = fahrenheit_to_kelvin(fahrenheit)\n",
    "                print(f\"{fahrenheit} Fahrenheit is {kelvin:.2f} Kelvin.\")\n",
    "                \n",
    "            elif choice == '6':\n",
    "                kelvin = float(input(\"Enter temperature in Kelvin: \"))\n",
    "                validate_temperature(kelvin, \"kelvin\")\n",
    "                fahrenheit = kelvin_to_fahrenheit(kelvin)\n",
    "                print(f\"{kelvin} Kelvin is {fahrenheit:.2f} Fahrenheit.\")\n",
    "                \n",
    "            elif choice == '7':\n",
    "                print(\"Exiting the Temperature Converter. Goodbye!\")\n",
    "                break\n",
    "                \n",
    "            else:\n",
    "                print(\"Invalid choice. Please try again.\")\n",
    "                \n",
    "        except ValueError as e:\n",
    "            print(f\"Invalid input: {e}. Please enter a valid numeric value.\")\n",
    "        \n",
    "        # Ask if the user wants to perform another conversion\n",
    "        another_conversion = input(\"Do you want to perform another conversion? (yes/no): \").strip().lower()\n",
    "        if another_conversion != 'yes':\n",
    "            print(\"Exiting the Temperature Converter. Goodbye!\")\n",
    "            break\n"
   ]
  },
  {
   "cell_type": "code",
   "execution_count": null,
   "id": "1de45130",
   "metadata": {},
   "outputs": [
    {
     "name": "stdout",
     "output_type": "stream",
     "text": [
      "\n",
      "Temperature Converter\n",
      "1. Convert Fahrenheit to Celsius\n",
      "2. Convert Celsius to Fahrenheit\n",
      "3. Convert Celsius to Kelvin\n",
      "4. Convert Kelvin to Celsius\n",
      "5. Convert Fahrenheit to Kelvin\n",
      "6. Convert Kelvin to Fahrenheit\n",
      "7. Exit\n"
     ]
    }
   ],
   "source": [
    "if __name__ == \"__main__\":\n",
    "    main()\n"
   ]
  },
  {
   "cell_type": "code",
   "execution_count": null,
   "id": "f5fb7dd1",
   "metadata": {},
   "outputs": [],
   "source": []
  }
 ],
 "metadata": {
  "kernelspec": {
   "display_name": "Python 3 (ipykernel)",
   "language": "python",
   "name": "python3"
  },
  "language_info": {
   "codemirror_mode": {
    "name": "ipython",
    "version": 3
   },
   "file_extension": ".py",
   "mimetype": "text/x-python",
   "name": "python",
   "nbconvert_exporter": "python",
   "pygments_lexer": "ipython3",
   "version": "3.6.2"
  }
 },
 "nbformat": 4,
 "nbformat_minor": 5
}
