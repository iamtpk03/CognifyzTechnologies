{
 "cells": [
  {
   "cell_type": "code",
   "execution_count": 1,
   "id": "c54d5c9d",
   "metadata": {},
   "outputs": [],
   "source": [
    "import json\n",
    "import os"
   ]
  },
  {
   "cell_type": "code",
   "execution_count": 2,
   "id": "786b526e",
   "metadata": {},
   "outputs": [],
   "source": [
    "class Task:\n",
    "    def __init__(self, title, description, due_date, priority, completed=False):\n",
    "        self.title = title\n",
    "        self.description = description\n",
    "        self.due_date = due_date\n",
    "        self.priority = priority\n",
    "        self.completed = completed\n",
    "\n",
    "    def to_dict(self):\n",
    "        return {\n",
    "            \"title\": self.title,\n",
    "            \"description\": self.description,\n",
    "            \"due_date\": self.due_date,\n",
    "            \"priority\": self.priority,\n",
    "            \"completed\": self.completed\n",
    "        }\n",
    "\n",
    "    @staticmethod\n",
    "    def from_dict(data):\n",
    "        return Task(data['title'], data['description'], data['due_date'], data['priority'], data['completed'])\n",
    "\n",
    "    def __str__(self):\n",
    "        status = \"Completed\" if self.completed else \"Pending\"\n",
    "        return f\"{self.title}: {self.description} [Due: {self.due_date}, Priority: {self.priority}, Status: {status}]\"\n"
   ]
  },
  {
   "cell_type": "code",
   "execution_count": 3,
   "id": "e02633f3",
   "metadata": {},
   "outputs": [],
   "source": [
    "def display_menu():\n",
    "    print(\"\\nTask Manager\")\n",
    "    print(\"1. Create a new task\")\n",
    "    print(\"2. View all tasks\")\n",
    "    print(\"3. Update a task\")\n",
    "    print(\"4. Delete a task\")\n",
    "    print(\"5. Mark task as completed\")\n",
    "    print(\"6. Save tasks to file\")\n",
    "    print(\"7. Load tasks from file\")\n",
    "    print(\"8. Search tasks by title\")\n",
    "    print(\"9. Sort tasks\")\n",
    "    print(\"10. Exit\")\n"
   ]
  },
  {
   "cell_type": "code",
   "execution_count": 4,
   "id": "c3bf4513",
   "metadata": {},
   "outputs": [],
   "source": [
    "def create_task(tasks):\n",
    "    title = input(\"Enter task title: \")\n",
    "    description = input(\"Enter task description: \")\n",
    "    due_date = input(\"Enter due date (YYYY-MM-DD): \")\n",
    "    priority = input(\"Enter task priority (High, Medium, Low): \")\n",
    "    task = Task(title, description, due_date, priority)\n",
    "    tasks.append(task)\n",
    "    print(\"Task created successfully!\")"
   ]
  },
  {
   "cell_type": "code",
   "execution_count": 5,
   "id": "7c1339d0",
   "metadata": {},
   "outputs": [],
   "source": [
    "def view_tasks(tasks):\n",
    "    if not tasks:\n",
    "        print(\"No tasks available.\")\n",
    "    else:\n",
    "        for idx, task in enumerate(tasks):\n",
    "            print(f\"{idx + 1}. {task}\")"
   ]
  },
  {
   "cell_type": "code",
   "execution_count": 6,
   "id": "54e8c5fa",
   "metadata": {},
   "outputs": [],
   "source": [
    "def update_task(tasks):\n",
    "    if not tasks:\n",
    "        print(\"No tasks available to update.\")\n",
    "    else:\n",
    "        view_tasks(tasks)\n",
    "        task_number = int(input(\"Enter the task number to update: \")) - 1\n",
    "        if 0 <= task_number < len(tasks):\n",
    "            title = input(\"Enter new task title: \")\n",
    "            description = input(\"Enter new task description: \")\n",
    "            due_date = input(\"Enter new due date (YYYY-MM-DD): \")\n",
    "            priority = input(\"Enter new task priority (High, Medium, Low): \")\n",
    "            tasks[task_number].title = title\n",
    "            tasks[task_number].description = description\n",
    "            tasks[task_number].due_date = due_date\n",
    "            tasks[task_number].priority = priority\n",
    "            print(\"Task updated successfully!\")\n",
    "        else:\n",
    "            print(\"Invalid task number.\")\n"
   ]
  },
  {
   "cell_type": "code",
   "execution_count": 7,
   "id": "2f3ba4ff",
   "metadata": {},
   "outputs": [],
   "source": [
    "def delete_task(tasks):\n",
    "    if not tasks:\n",
    "        print(\"No tasks available to delete.\")\n",
    "    else:\n",
    "        view_tasks(tasks)\n",
    "        task_number = int(input(\"Enter the task number to delete: \")) - 1\n",
    "        if 0 <= task_number < len(tasks):\n",
    "            tasks.pop(task_number)\n",
    "            print(\"Task deleted successfully!\")\n",
    "        else:\n",
    "            print(\"Invalid task number.\")\n"
   ]
  },
  {
   "cell_type": "code",
   "execution_count": 8,
   "id": "6c1a209b",
   "metadata": {},
   "outputs": [],
   "source": [
    "def mark_task_completed(tasks):\n",
    "    if not tasks:\n",
    "        print(\"No tasks available.\")\n",
    "    else:\n",
    "        view_tasks(tasks)\n",
    "        task_number = int(input(\"Enter the task number to mark as completed: \")) - 1\n",
    "        if 0 <= task_number < len(tasks):\n",
    "            tasks[task_number].completed = True\n",
    "            print(\"Task marked as completed!\")\n",
    "        else:\n",
    "            print(\"Invalid task number.\")\n"
   ]
  },
  {
   "cell_type": "code",
   "execution_count": 9,
   "id": "11ba9b8d",
   "metadata": {},
   "outputs": [],
   "source": [
    "def save_tasks_to_file(tasks, filename=\"tasks.txt\"):\n",
    "    try:\n",
    "        with open(filename, \"w\") as file:\n",
    "            for task in tasks:\n",
    "                file.write(json.dumps(task.to_dict()) + \"\\n\")\n",
    "        print(\"Tasks saved to file successfully!\")\n",
    "    except IOError as e:\n",
    "        print(f\"An error occurred while saving tasks to file: {e}\")\n"
   ]
  },
  {
   "cell_type": "code",
   "execution_count": 10,
   "id": "1ca68a86",
   "metadata": {},
   "outputs": [],
   "source": [
    "def load_tasks_from_file(filename=\"tasks.txt\"):\n",
    "    tasks = []\n",
    "    try:\n",
    "        if not os.path.exists(filename):\n",
    "            open(filename, 'w').close()  # Create the file if it does not exist\n",
    "        with open(filename, \"r\") as file:\n",
    "            for line in file:\n",
    "                if line.strip():\n",
    "                    tasks.append(Task.from_dict(json.loads(line.strip())))\n",
    "        print(\"Tasks loaded from file successfully!\")\n",
    "    except IOError as e:\n",
    "        print(f\"An error occurred while loading tasks from file: {e}\")\n",
    "    return tasks\n"
   ]
  },
  {
   "cell_type": "code",
   "execution_count": 11,
   "id": "b0332fd4",
   "metadata": {},
   "outputs": [],
   "source": [
    "def search_tasks(tasks):\n",
    "    if not tasks:\n",
    "        print(\"No tasks available to search.\")\n",
    "    else:\n",
    "        search_title = input(\"Enter the task title to search for: \").strip().lower()\n",
    "        found_tasks = [task for task in tasks if search_title in task.title.lower()]\n",
    "        if found_tasks:\n",
    "            for idx, task in enumerate(found_tasks):\n",
    "                print(f\"{idx + 1}. {task}\")\n",
    "        else:\n",
    "            print(\"No tasks found with that title.\")\n"
   ]
  },
  {
   "cell_type": "code",
   "execution_count": 12,
   "id": "d64a0ff6",
   "metadata": {},
   "outputs": [],
   "source": [
    "def sort_tasks(tasks):\n",
    "    if not tasks:\n",
    "        print(\"No tasks available to sort.\")\n",
    "    else:\n",
    "        print(\"Sort tasks by:\")\n",
    "        print(\"1. Due date\")\n",
    "        print(\"2. Priority\")\n",
    "        choice = input(\"Enter your choice: \").strip()\n",
    "        if choice == '1':\n",
    "            tasks.sort(key=lambda task: task.due_date)\n",
    "            print(\"Tasks sorted by due date.\")\n",
    "        elif choice == '2':\n",
    "            priority_map = {\"High\": 1, \"Medium\": 2, \"Low\": 3}\n",
    "            tasks.sort(key=lambda task: priority_map.get(task.priority, 99))\n",
    "            print(\"Tasks sorted by priority.\")\n",
    "        else:\n",
    "            print(\"Invalid choice.\")\n"
   ]
  },
  {
   "cell_type": "code",
   "execution_count": 13,
   "id": "58136501",
   "metadata": {},
   "outputs": [],
   "source": [
    "def main():\n",
    "    tasks = load_tasks_from_file()\n",
    "    while True:\n",
    "        display_menu()\n",
    "        choice = input(\"Enter your choice: \").strip()\n",
    "        if choice == '1':\n",
    "            create_task(tasks)\n",
    "        elif choice == '2':\n",
    "            view_tasks(tasks)\n",
    "        elif choice == '3':\n",
    "            update_task(tasks)\n",
    "        elif choice == '4':\n",
    "            delete_task(tasks)\n",
    "        elif choice == '5':\n",
    "            mark_task_completed(tasks)\n",
    "        elif choice == '6':\n",
    "            save_tasks_to_file(tasks)\n",
    "        elif choice == '7':\n",
    "            tasks = load_tasks_from_file()\n",
    "        elif choice == '8':\n",
    "            search_tasks(tasks)\n",
    "        elif choice == '9':\n",
    "            sort_tasks(tasks)\n",
    "        elif choice == '10':\n",
    "            print(\"Exiting the Task Manager. Goodbye!\")\n",
    "            break\n",
    "        else:\n",
    "            print(\"Invalid choice. Please try again.\")\n"
   ]
  },
  {
   "cell_type": "code",
   "execution_count": null,
   "id": "e560a48b",
   "metadata": {},
   "outputs": [
    {
     "name": "stdout",
     "output_type": "stream",
     "text": [
      "Tasks loaded from file successfully!\n",
      "\n",
      "Task Manager\n",
      "1. Create a new task\n",
      "2. View all tasks\n",
      "3. Update a task\n",
      "4. Delete a task\n",
      "5. Mark task as completed\n",
      "6. Save tasks to file\n",
      "7. Load tasks from file\n",
      "8. Search tasks by title\n",
      "9. Sort tasks\n",
      "10. Exit\n"
     ]
    }
   ],
   "source": [
    "if __name__ == \"__main__\":\n",
    "    main()\n"
   ]
  },
  {
   "cell_type": "code",
   "execution_count": null,
   "id": "352c9fd6",
   "metadata": {},
   "outputs": [],
   "source": []
  }
 ],
 "metadata": {
  "kernelspec": {
   "display_name": "Python 3 (ipykernel)",
   "language": "python",
   "name": "python3"
  },
  "language_info": {
   "codemirror_mode": {
    "name": "ipython",
    "version": 3
   },
   "file_extension": ".py",
   "mimetype": "text/x-python",
   "name": "python",
   "nbconvert_exporter": "python",
   "pygments_lexer": "ipython3",
   "version": "3.6.2"
  }
 },
 "nbformat": 4,
 "nbformat_minor": 5
}
