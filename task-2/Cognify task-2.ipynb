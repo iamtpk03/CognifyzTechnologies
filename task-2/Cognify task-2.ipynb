{
 "cells": [
  {
   "cell_type": "code",
   "execution_count": 2,
   "id": "666a64fb",
   "metadata": {},
   "outputs": [
    {
     "name": "stdout",
     "output_type": "stream",
     "text": [
      "    1\n",
      "   121\n",
      "  12323\n",
      " 1234343\n",
      "123454545\n"
     ]
    }
   ],
   "source": [
    "# Function to print pyramid pattern\n",
    "def print_pyramid(rows):\n",
    "    for i in range(1, rows + 1):\n",
    "        # Print leading spaces\n",
    "        for j in range(1, rows - i + 1):\n",
    "            print(\" \", end=\"\")\n",
    "        \n",
    "        # Print numbers\n",
    "        num = 1\n",
    "        for j in range(1, 2 * i):\n",
    "            print(num, end=\"\")\n",
    "            num += 1\n",
    "            if num > i:\n",
    "                num -= 2\n",
    "        \n",
    "        # Move to the next line\n",
    "        print()\n",
    "\n",
    "# Example usage:\n",
    "rows = 5  # Change the number of rows as needed\n",
    "print_pyramid(rows)\n"
   ]
  },
  {
   "cell_type": "code",
   "execution_count": null,
   "id": "47b9739b",
   "metadata": {},
   "outputs": [],
   "source": []
  },
  {
   "cell_type": "code",
   "execution_count": null,
   "id": "eb0a7c79",
   "metadata": {},
   "outputs": [],
   "source": []
  }
 ],
 "metadata": {
  "kernelspec": {
   "display_name": "Python 3 (ipykernel)",
   "language": "python",
   "name": "python3"
  },
  "language_info": {
   "codemirror_mode": {
    "name": "ipython",
    "version": 3
   },
   "file_extension": ".py",
   "mimetype": "text/x-python",
   "name": "python",
   "nbconvert_exporter": "python",
   "pygments_lexer": "ipython3",
   "version": "3.6.2"
  }
 },
 "nbformat": 4,
 "nbformat_minor": 5
}
